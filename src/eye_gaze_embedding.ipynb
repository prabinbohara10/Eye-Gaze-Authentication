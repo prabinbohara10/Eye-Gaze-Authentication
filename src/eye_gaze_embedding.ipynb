{
 "cells": [
  {
   "cell_type": "code",
   "execution_count": 1,
   "metadata": {},
   "outputs": [
    {
     "name": "stdout",
     "output_type": "stream",
     "text": [
      "test2\n"
     ]
    }
   ],
   "source": [
    "print(\"test2\")"
   ]
  },
  {
   "cell_type": "code",
   "execution_count": 2,
   "metadata": {},
   "outputs": [],
   "source": [
    "import torch\n",
    "import torch.nn as nn\n",
    "import torch.optim as optim\n",
    "from torch.utils.data import DataLoader, Dataset\n",
    "import pandas as pd\n",
    "import numpy as np\n",
    "import matplotlib.pyplot as plt\n",
    "from torch.nn.functional import cosine_similarity\n",
    "import random"
   ]
  },
  {
   "cell_type": "code",
   "execution_count": 3,
   "metadata": {},
   "outputs": [],
   "source": [
    "# Dataset for Gaze Triplets\n",
    "class TripletGazeDataset(Dataset):\n",
    "    def __init__(self, csv_file, sequence_length=10):\n",
    "        self.data = pd.read_csv(csv_file)\n",
    "        self.sequence_length = sequence_length\n",
    "        self.data['Name'] = self.data['Name'].astype('category')\n",
    "        self.data['Label'] = self.data['Name'].cat.codes\n",
    "        self.labels = self.data['Label'].unique()\n",
    "        \n",
    "        # Group data by labels for easier access to positive and negative examples\n",
    "        self.groups = {label: group[['GazeX', 'GazeY', 'HeadX', 'HeadY', 'Yaw', 'Pitch', 'Roll']].values for label, group in self.data.groupby('Label')}\n",
    "        \n",
    "    def __len__(self):\n",
    "        return len(self.data) // self.sequence_length  # Approximate number of triplets\n",
    "\n",
    "    def __getitem__(self, idx):\n",
    "        anchor_label = random.choice(self.labels)\n",
    "        positive_label = anchor_label\n",
    "        negative_label = random.choice([label for label in self.labels if label != anchor_label])\n",
    "        \n",
    "        anchor_sequence = self._sample_sequence(anchor_label)\n",
    "        positive_sequence = self._sample_sequence(positive_label)\n",
    "        negative_sequence = self._sample_sequence(negative_label)\n",
    "\n",
    "        anchor = torch.tensor(anchor_sequence, dtype=torch.float32)\n",
    "        positive = torch.tensor(positive_sequence, dtype=torch.float32)\n",
    "        negative = torch.tensor(negative_sequence, dtype=torch.float32)\n",
    "        \n",
    "        return anchor, positive, negative\n",
    "\n",
    "    def _sample_sequence(self, label):\n",
    "        coords = self.groups[label]\n",
    "        start_idx = random.randint(0, len(coords) - self.sequence_length)\n",
    "        return coords[start_idx:start_idx + self.sequence_length]"
   ]
  },
  {
   "cell_type": "code",
   "execution_count": 5,
   "metadata": {},
   "outputs": [],
   "source": [
    "## LSTM Model\n",
    "class GazeLSTM(nn.Module):\n",
    "    def __init__(self, input_size=7, hidden_size=64, num_layers=2, num_classes=2):\n",
    "        super(GazeLSTM, self).__init__()\n",
    "        self.lstm = nn.LSTM(input_size, hidden_size, num_layers, batch_first=True)\n",
    "        self.fc = nn.Linear(hidden_size, num_classes)\n",
    "\n",
    "    def forward(self, x):\n",
    "        h0 = torch.zeros(2, x.size(0), 64).to(x.device)\n",
    "        c0 = torch.zeros(2, x.size(0), 64).to(x.device)\n",
    "        out, _ = self.lstm(x, (h0, c0))\n",
    "        out = self.fc(out[:, -1, :])  ## Using the last LSTM output\n",
    "        return out"
   ]
  },
  {
   "cell_type": "code",
   "execution_count": 6,
   "metadata": {},
   "outputs": [],
   "source": [
    "# Model for generating embeddings\n",
    "class GazeEmbeddingModel(nn.Module):\n",
    "    def __init__(self, input_size=7, hidden_size=64, embedding_size=128, num_layers=2):\n",
    "        super(GazeEmbeddingModel, self).__init__()\n",
    "        self.lstm = nn.LSTM(input_size, hidden_size, num_layers, batch_first=True)\n",
    "        self.fc = nn.Linear(hidden_size, embedding_size)\n",
    "\n",
    "    def forward(self, x):\n",
    "        h0 = torch.zeros(2, x.size(0), 64).to(x.device)\n",
    "        c0 = torch.zeros(2, x.size(0), 64).to(x.device)\n",
    "        out, _ = self.lstm(x, (h0, c0))\n",
    "        embedding = self.fc(out[:, -1, :])  # Use last hidden state as embedding\n",
    "        return embedding"
   ]
  },
  {
   "cell_type": "code",
   "execution_count": 7,
   "metadata": {},
   "outputs": [],
   "source": [
    "# Triplet Loss Function\n",
    "class TripletLoss(nn.Module):\n",
    "    def __init__(self, margin=1.0):\n",
    "        super(TripletLoss, self).__init__()\n",
    "        self.margin = margin\n",
    "\n",
    "    def forward(self, anchor, positive, negative):\n",
    "        pos_dist = torch.norm(anchor - positive, p=2, dim=1)\n",
    "        neg_dist = torch.norm(anchor - negative, p=2, dim=1)\n",
    "        loss = torch.clamp(pos_dist - neg_dist + self.margin, min=0.0)\n",
    "        return loss.mean()"
   ]
  },
  {
   "cell_type": "code",
   "execution_count": 8,
   "metadata": {},
   "outputs": [],
   "source": [
    "# Training function for embedding model with Early Stopping\n",
    "def train_embedding_model(model, train_loader, test_loader, optimizer, num_epochs=10, early_stop = False, patience=5):\n",
    "    model.train()  # Ensure model is in training mode at the start\n",
    "    criterion = TripletLoss()  # Assuming you have TripletLoss implemented\n",
    "    loss_history = []\n",
    "    test_loss_history = []\n",
    "    train_accuracy_history = []\n",
    "    test_accuracy_history = []\n",
    "\n",
    "    best_test_loss = np.inf  # Best test loss to track improvement\n",
    "    epochs_without_improvement = 0  # Track how many epochs we've seen without improvement in validation loss\n",
    "\n",
    "    for epoch in range(num_epochs):\n",
    "        model.train()\n",
    "        running_loss = 0.0\n",
    "        running_correct_train = 0\n",
    "        total_train_samples = 0\n",
    "\n",
    "        # Training loop\n",
    "        for anchor, positive, negative in train_loader:\n",
    "            anchor, positive, negative = anchor.to(device), positive.to(device), negative.to(device)\n",
    "\n",
    "            # Get embeddings\n",
    "            anchor_embedding = model(anchor)\n",
    "            positive_embedding = model(positive)\n",
    "            negative_embedding = model(negative)\n",
    "\n",
    "            # Calculate triplet loss\n",
    "            loss = criterion(anchor_embedding, positive_embedding, negative_embedding)\n",
    "            optimizer.zero_grad()\n",
    "            loss.backward()\n",
    "            optimizer.step()\n",
    "\n",
    "            # Track loss\n",
    "            running_loss += loss.item()\n",
    "\n",
    "            # Calculate accuracy based on anchor-positive and anchor-negative distances\n",
    "            pos_dist = torch.norm(anchor_embedding - positive_embedding, p=2, dim=1)\n",
    "            neg_dist = torch.norm(anchor_embedding - negative_embedding, p=2, dim=1)\n",
    "            running_correct_train += torch.sum(pos_dist < neg_dist).item()  # Correct if anchor-positive < anchor-negative\n",
    "            total_train_samples += anchor.size(0)\n",
    "\n",
    "        # Calculate epoch metrics for training\n",
    "        epoch_loss = running_loss / len(train_loader)\n",
    "        epoch_accuracy = running_correct_train / total_train_samples\n",
    "        loss_history.append(epoch_loss)\n",
    "        train_accuracy_history.append(epoch_accuracy)\n",
    "\n",
    "        print(f\"Epoch [{epoch+1}/{num_epochs}], Training Loss: {epoch_loss:.4f}, Training Accuracy: {epoch_accuracy:.4f}\")\n",
    "\n",
    "        # Evaluate on test data after each epoch\n",
    "        test_loss, test_accuracy = evaluate_embedding_model(model, test_loader)\n",
    "        test_loss_history.append(test_loss)\n",
    "        test_accuracy_history.append(test_accuracy)\n",
    "\n",
    "        print(f\"Test Loss: {test_loss:.4f}, Test Accuracy: {test_accuracy:.4f}\")\n",
    "\n",
    "        # Early stopping check: if the test loss doesn't improve for 'patience' epochs, stop training\n",
    "        if test_loss < best_test_loss:\n",
    "            best_test_loss = test_loss\n",
    "            epochs_without_improvement = 0\n",
    "        else:\n",
    "            epochs_without_improvement += 1\n",
    "\n",
    "        if early_stop and epochs_without_improvement >= patience:\n",
    "            print(f\"Early stopping triggered. No improvement in test loss for {patience} epochs.\")\n",
    "            break\n",
    "\n",
    "    # Plot training and testing loss and accuracy curves\n",
    "    plot_loss_accuracy_curves(loss_history, test_loss_history, train_accuracy_history, test_accuracy_history)\n",
    "\n",
    "\n",
    "# Evaluation function for test data\n",
    "def evaluate_embedding_model(model, data_loader):\n",
    "    model.eval()  # Ensure model is in evaluation mode during evaluation\n",
    "    criterion = TripletLoss()  # Assuming you have TripletLoss implemented\n",
    "    running_loss = 0.0\n",
    "    running_correct_test = 0\n",
    "    total_test_samples = 0\n",
    "\n",
    "    with torch.no_grad():  # No gradients are computed during evaluation\n",
    "        for anchor, positive, negative in data_loader:\n",
    "            anchor, positive, negative = anchor.to(device), positive.to(device), negative.to(device)\n",
    "\n",
    "            # Get embeddings\n",
    "            anchor_embedding = model(anchor)\n",
    "            positive_embedding = model(positive)\n",
    "            negative_embedding = model(negative)\n",
    "\n",
    "            # Calculate triplet loss\n",
    "            loss = criterion(anchor_embedding, positive_embedding, negative_embedding)\n",
    "            running_loss += loss.item()\n",
    "\n",
    "            # Calculate accuracy based on anchor-positive and anchor-negative distances\n",
    "            pos_dist = torch.norm(anchor_embedding - positive_embedding, p=2, dim=1)\n",
    "            neg_dist = torch.norm(anchor_embedding - negative_embedding, p=2, dim=1)\n",
    "            running_correct_test += torch.sum(pos_dist < neg_dist).item()  # Correct if anchor-positive < anchor-negative\n",
    "            total_test_samples += anchor.size(0)\n",
    "\n",
    "    # Calculate average loss and accuracy\n",
    "    avg_loss = running_loss / len(data_loader)\n",
    "    avg_accuracy = running_correct_test / total_test_samples\n",
    "    return avg_loss, avg_accuracy\n",
    "\n",
    "\n",
    "# Function to plot loss and accuracy curves\n",
    "def plot_loss_accuracy_curves(train_loss_history, test_loss_history, train_accuracy_history, test_accuracy_history):\n",
    "    # Plot loss and accuracy curves\n",
    "    plt.figure(figsize=(12, 6))\n",
    "\n",
    "    # Subplot for Loss\n",
    "    plt.subplot(1, 2, 1)\n",
    "    plt.plot(train_loss_history, label=\"Train Loss\")\n",
    "    plt.plot(test_loss_history, label=\"Test Loss\", linestyle=\"--\")\n",
    "    plt.xlabel(\"Epoch\")\n",
    "    plt.ylabel(\"Loss\")\n",
    "    plt.title(\"Training and Testing Loss Curves\")\n",
    "    plt.legend()\n",
    "\n",
    "    # Subplot for Accuracy\n",
    "    plt.subplot(1, 2, 2)\n",
    "    plt.plot(train_accuracy_history, label=\"Train Accuracy\")\n",
    "    plt.plot(test_accuracy_history, label=\"Test Accuracy\", linestyle=\"--\")\n",
    "    plt.xlabel(\"Epoch\")\n",
    "    plt.ylabel(\"Accuracy\")\n",
    "    plt.title(\"Training and Testing Accuracy Curves\")\n",
    "    plt.legend()\n",
    "\n",
    "    plt.tight_layout()\n",
    "    plt.show()"
   ]
  },
  {
   "cell_type": "code",
   "execution_count": null,
   "metadata": {},
   "outputs": [],
   "source": []
  },
  {
   "cell_type": "code",
   "execution_count": 9,
   "metadata": {},
   "outputs": [],
   "source": [
    "# Enrollment and Authentication functions\n",
    "stored_embeddings = {}"
   ]
  },
  {
   "cell_type": "code",
   "execution_count": 10,
   "metadata": {},
   "outputs": [],
   "source": [
    "def enroll_new_user(user_id, gaze_sequence, stored_embeddings):\n",
    "    \"\"\"Enroll a new user by saving their gaze embedding.\"\"\"\n",
    "    gaze_sequence = torch.tensor(gaze_sequence, dtype=torch.float32).unsqueeze(0).to(device)\n",
    "    model.eval()\n",
    "    with torch.no_grad():\n",
    "        embedding = model(gaze_sequence)\n",
    "        stored_embeddings[user_id] = embedding\n",
    "    print(f\"New user {user_id} enrolled successfully.\")"
   ]
  },
  {
   "cell_type": "code",
   "execution_count": 11,
   "metadata": {},
   "outputs": [],
   "source": [
    "def authenticate_user(gaze_sequence, stored_embeddings, threshold=0.8):\n",
    "    \"\"\"Authenticate a user based on similarity to stored embeddings.\"\"\"\n",
    "    gaze_sequence = torch.tensor(gaze_sequence, dtype=torch.float32).unsqueeze(0).to(device)\n",
    "    model.eval()\n",
    "    with torch.no_grad():\n",
    "        embedding = model(gaze_sequence)\n",
    "        for user_id, user_embedding in stored_embeddings.items():\n",
    "            similarity = cosine_similarity(embedding, user_embedding)\n",
    "            if similarity >= threshold:\n",
    "                return True, f\"User authenticated as user ID {user_id}\"\n",
    "    return False, \"Access denied: No matching user found.\""
   ]
  },
  {
   "cell_type": "markdown",
   "metadata": {},
   "source": [
    "# Training setup"
   ]
  },
  {
   "cell_type": "code",
   "execution_count": 19,
   "metadata": {},
   "outputs": [],
   "source": [
    "# Set up and train model\n",
    "device = torch.device('cuda' if torch.cuda.is_available() else 'cpu')\n",
    "sequence_length = 40\n",
    "csv_file = '../data/GazeCloudAPI_data/gaze_data_combined.csv'"
   ]
  },
  {
   "cell_type": "code",
   "execution_count": 20,
   "metadata": {},
   "outputs": [],
   "source": [
    "# Prepare Data\n",
    "train_dataset = TripletGazeDataset(csv_file, sequence_length=sequence_length)\n",
    "test_dataset = TripletGazeDataset(csv_file, sequence_length=sequence_length)\n",
    "train_loader = DataLoader(train_dataset, batch_size=8, shuffle=True)\n",
    "test_loader = DataLoader(test_dataset, batch_size=8, shuffle=False)"
   ]
  },
  {
   "cell_type": "code",
   "execution_count": 26,
   "metadata": {},
   "outputs": [],
   "source": [
    "# Initialize model, optimizer\n",
    "model = GazeEmbeddingModel().to(device)\n",
    "optimizer = optim.Adam(model.parameters(), lr=0.001)"
   ]
  },
  {
   "cell_type": "markdown",
   "metadata": {},
   "source": [
    "# Training Model"
   ]
  },
  {
   "cell_type": "code",
   "execution_count": 27,
   "metadata": {},
   "outputs": [
    {
     "name": "stdout",
     "output_type": "stream",
     "text": [
      "Epoch [1/10], Training Loss: 0.5713, Training Accuracy: 1.0000\n",
      "Test Loss: 0.3659, Test Accuracy: 1.0000\n",
      "Epoch [2/10], Training Loss: 0.6092, Training Accuracy: 1.0000\n",
      "Test Loss: 0.2942, Test Accuracy: 1.0000\n",
      "Epoch [3/10], Training Loss: 0.3754, Training Accuracy: 1.0000\n",
      "Test Loss: 0.0742, Test Accuracy: 1.0000\n",
      "Epoch [4/10], Training Loss: 0.1162, Training Accuracy: 1.0000\n",
      "Test Loss: 0.0817, Test Accuracy: 1.0000\n",
      "Epoch [5/10], Training Loss: 0.0000, Training Accuracy: 1.0000\n",
      "Test Loss: 0.0000, Test Accuracy: 1.0000\n",
      "Epoch [6/10], Training Loss: 0.0000, Training Accuracy: 1.0000\n",
      "Test Loss: 0.0000, Test Accuracy: 1.0000\n",
      "Epoch [7/10], Training Loss: 0.0000, Training Accuracy: 1.0000\n",
      "Test Loss: 0.0000, Test Accuracy: 1.0000\n",
      "Epoch [8/10], Training Loss: 0.0000, Training Accuracy: 1.0000\n",
      "Test Loss: 0.0000, Test Accuracy: 1.0000\n",
      "Epoch [9/10], Training Loss: 0.0000, Training Accuracy: 1.0000\n",
      "Test Loss: 0.0000, Test Accuracy: 1.0000\n",
      "Epoch [10/10], Training Loss: 0.0000, Training Accuracy: 1.0000\n",
      "Test Loss: 0.0000, Test Accuracy: 1.0000\n"
     ]
    },
    {
     "data": {
      "image/png": "[encoded data removed]",
      "text/plain": [
       "<Figure size 1200x600 with 2 Axes>"
      ]
     },
     "metadata": {},
     "output_type": "display_data"
    }
   ],
   "source": [
    "train_embedding_model(model, train_loader, test_loader, optimizer, num_epochs=10, early_stop=False, patience=10)"
   ]
  },
  {
   "cell_type": "code",
   "execution_count": 28,
   "metadata": {},
   "outputs": [
    {
     "name": "stdout",
     "output_type": "stream",
     "text": [
      "Model saved as gaze_embedding_model.pth\n"
     ]
    }
   ],
   "source": [
    "# Save model\n",
    "torch.save(model.state_dict(), '../models/gaze_embedding_model.pth')\n",
    "print(\"Model saved as gaze_embedding_model.pth\")"
   ]
  },
  {
   "cell_type": "markdown",
   "metadata": {},
   "source": [
    "# Inference example"
   ]
  },
  {
   "cell_type": "code",
   "execution_count": 29,
   "metadata": {},
   "outputs": [
    {
     "ename": "NameError",
     "evalue": "name 'dummy_data' is not defined",
     "output_type": "error",
     "traceback": [
      "\u001b[0;31m---------------------------------------------------------------------------\u001b[0m",
      "\u001b[0;31mNameError\u001b[0m                                 Traceback (most recent call last)",
      "Cell \u001b[0;32mIn[29], line 1\u001b[0m\n\u001b[0;32m----> 1\u001b[0m \u001b[43mdummy_data\u001b[49m\n",
      "\u001b[0;31mNameError\u001b[0m: name 'dummy_data' is not defined"
     ]
    }
   ],
   "source": [
    "dummy_data"
   ]
  },
  {
   "cell_type": "code",
   "execution_count": 48,
   "metadata": {},
   "outputs": [
    {
     "name": "stdout",
     "output_type": "stream",
     "text": [
      "Inference result for dummy sequence 1:\n",
      "Embedding shape: torch.Size([1, 128])\n",
      "Embedding: tensor([[ 0.0149,  0.0797,  0.0709,  0.0364,  0.0743, -0.1209, -0.0685, -0.0614,\n",
      "         -0.0384,  0.0287, -0.0076, -0.0263, -0.0005, -0.0214,  0.0817,  0.0595,\n",
      "         -0.0706,  0.0318, -0.0264, -0.0281, -0.0334, -0.1486, -0.1073, -0.0382,\n",
      "          0.0060,  0.0666, -0.0058, -0.0740, -0.0797, -0.0696,  0.0349,  0.0364,\n",
      "          0.0595, -0.0515, -0.0661,  0.0854, -0.0391,  0.1020,  0.1299, -0.0002,\n",
      "          0.0485,  0.0560,  0.0786, -0.0710, -0.0416,  0.0910,  0.1308, -0.0250,\n",
      "          0.0644,  0.0645,  0.0620, -0.0219,  0.1009, -0.0553, -0.1429, -0.0682,\n",
      "         -0.0857,  0.0061,  0.0076,  0.1479,  0.0724,  0.0469,  0.1673, -0.0453,\n",
      "         -0.0803, -0.0417, -0.0107, -0.0707, -0.0071, -0.0661,  0.1183, -0.1122,\n",
      "          0.0542,  0.0293, -0.1643, -0.0629, -0.1204, -0.1281,  0.0413,  0.0327,\n",
      "         -0.0808,  0.1005,  0.1062,  0.0802,  0.0526,  0.0197, -0.1471, -0.0190,\n",
      "          0.0755, -0.1053,  0.0974, -0.1185, -0.0183, -0.0837, -0.1518, -0.0124,\n",
      "          0.0749, -0.0952,  0.1088,  0.0868,  0.0996,  0.0619,  0.0120,  0.0419,\n",
      "         -0.0428,  0.0403, -0.0125, -0.0226, -0.0745,  0.1418, -0.1215,  0.0543,\n",
      "         -0.0783, -0.0259, -0.1165, -0.0366,  0.0090,  0.1615, -0.0119, -0.0758,\n",
      "         -0.0297,  0.1177,  0.0663, -0.0592,  0.0623,  0.0140,  0.0629,  0.0187]],\n",
      "       device='cuda:0')\n",
      "==================================================\n",
      "Inference result for dummy sequence 2:\n",
      "Embedding shape: torch.Size([1, 128])\n",
      "Embedding: tensor([[ 0.0214,  0.0746,  0.0745,  0.0402,  0.0782, -0.1243, -0.0615, -0.0565,\n",
      "         -0.0438,  0.0261, -0.0048, -0.0270, -0.0020, -0.0155,  0.0789,  0.0626,\n",
      "         -0.0767,  0.0285, -0.0282, -0.0318, -0.0382, -0.1534, -0.1070, -0.0433,\n",
      "          0.0087,  0.0662, -0.0106, -0.0753, -0.0805, -0.0768,  0.0291,  0.0320,\n",
      "          0.0607, -0.0537, -0.0685,  0.0816, -0.0438,  0.1040,  0.1345,  0.0063,\n",
      "          0.0475,  0.0612,  0.0726, -0.0755, -0.0458,  0.0966,  0.1340, -0.0234,\n",
      "          0.0612,  0.0687,  0.0572, -0.0266,  0.1045, -0.0523, -0.1436, -0.0717,\n",
      "         -0.0855,  0.0058,  0.0099,  0.1455,  0.0691,  0.0473,  0.1621, -0.0504,\n",
      "         -0.0817, -0.0432, -0.0146, -0.0663, -0.0130, -0.0748,  0.1125, -0.1183,\n",
      "          0.0562,  0.0324, -0.1622, -0.0696, -0.1216, -0.1286,  0.0338,  0.0360,\n",
      "         -0.0751,  0.1087,  0.1014,  0.0822,  0.0512,  0.0228, -0.1437, -0.0232,\n",
      "          0.0771, -0.1116,  0.0972, -0.1166, -0.0240, -0.0785, -0.1556, -0.0086,\n",
      "          0.0823, -0.0915,  0.1125,  0.0812,  0.0940,  0.0676,  0.0089,  0.0377,\n",
      "         -0.0449,  0.0344, -0.0079, -0.0183, -0.0771,  0.1472, -0.1247,  0.0488,\n",
      "         -0.0839, -0.0294, -0.1213, -0.0361,  0.0015,  0.1574, -0.0103, -0.0724,\n",
      "         -0.0294,  0.1229,  0.0626, -0.0634,  0.0611,  0.0108,  0.0674,  0.0145]],\n",
      "       device='cuda:0')\n",
      "==================================================\n",
      "Inference result for dummy sequence 3:\n",
      "Embedding shape: torch.Size([1, 128])\n",
      "Embedding: tensor([[ 0.0166,  0.0794,  0.0697,  0.0354,  0.0740, -0.1211, -0.0684, -0.0614,\n",
      "         -0.0378,  0.0307, -0.0070, -0.0269, -0.0003, -0.0211,  0.0819,  0.0589,\n",
      "         -0.0702,  0.0328, -0.0263, -0.0264, -0.0340, -0.1470, -0.1076, -0.0375,\n",
      "          0.0059,  0.0667, -0.0041, -0.0736, -0.0781, -0.0703,  0.0345,  0.0380,\n",
      "          0.0583, -0.0521, -0.0657,  0.0869, -0.0397,  0.1023,  0.1290,  0.0008,\n",
      "          0.0485,  0.0575,  0.0786, -0.0702, -0.0412,  0.0907,  0.1297, -0.0229,\n",
      "          0.0640,  0.0652,  0.0640, -0.0215,  0.0993, -0.0560, -0.1429, -0.0685,\n",
      "         -0.0853,  0.0063,  0.0078,  0.1481,  0.0717,  0.0482,  0.1653, -0.0456,\n",
      "         -0.0798, -0.0427, -0.0100, -0.0705, -0.0055, -0.0683,  0.1181, -0.1116,\n",
      "          0.0558,  0.0309, -0.1636, -0.0635, -0.1203, -0.1281,  0.0403,  0.0327,\n",
      "         -0.0804,  0.1028,  0.1064,  0.0796,  0.0537,  0.0183, -0.1478, -0.0176,\n",
      "          0.0755, -0.1057,  0.0985, -0.1184, -0.0188, -0.0838, -0.1521, -0.0126,\n",
      "          0.0746, -0.0940,  0.1093,  0.0866,  0.0989,  0.0618,  0.0122,  0.0408,\n",
      "         -0.0438,  0.0397, -0.0128, -0.0224, -0.0741,  0.1410, -0.1212,  0.0539,\n",
      "         -0.0783, -0.0258, -0.1175, -0.0366,  0.0083,  0.1607, -0.0132, -0.0761,\n",
      "         -0.0283,  0.1171,  0.0677, -0.0588,  0.0643,  0.0134,  0.0618,  0.0200]],\n",
      "       device='cuda:0')\n",
      "==================================================\n",
      "Inference result for dummy sequence 4:\n",
      "Embedding shape: torch.Size([1, 128])\n",
      "Embedding: tensor([[ 0.0186,  0.0757,  0.0742,  0.0403,  0.0771, -0.1234, -0.0642, -0.0578,\n",
      "         -0.0418,  0.0264, -0.0062, -0.0261, -0.0022, -0.0177,  0.0801,  0.0611,\n",
      "         -0.0745,  0.0294, -0.0275, -0.0311, -0.0361, -0.1531, -0.1065, -0.0417,\n",
      "          0.0077,  0.0659, -0.0093, -0.0742, -0.0813, -0.0740,  0.0315,  0.0320,\n",
      "          0.0605, -0.0527, -0.0678,  0.0830, -0.0419,  0.1033,  0.1334,  0.0040,\n",
      "          0.0479,  0.0587,  0.0749, -0.0742, -0.0446,  0.0949,  0.1328, -0.0248,\n",
      "          0.0624,  0.0674,  0.0578, -0.0250,  0.1042, -0.0534, -0.1437, -0.0704,\n",
      "         -0.0852,  0.0057,  0.0082,  0.1464,  0.0710,  0.0469,  0.1646, -0.0482,\n",
      "         -0.0814, -0.0426, -0.0131, -0.0676, -0.0118, -0.0715,  0.1134, -0.1158,\n",
      "          0.0547,  0.0307, -0.1630, -0.0665, -0.1214, -0.1288,  0.0368,  0.0347,\n",
      "         -0.0774,  0.1049,  0.1033,  0.0823,  0.0518,  0.0223, -0.1444, -0.0228,\n",
      "          0.0769, -0.1089,  0.0972, -0.1165, -0.0219, -0.0804, -0.1544, -0.0103,\n",
      "          0.0792, -0.0932,  0.1104,  0.0831,  0.0962,  0.0655,  0.0101,  0.0399,\n",
      "         -0.0437,  0.0360, -0.0095, -0.0203, -0.0766,  0.1452, -0.1238,  0.0508,\n",
      "         -0.0825, -0.0277, -0.1191, -0.0359,  0.0043,  0.1593, -0.0100, -0.0734,\n",
      "         -0.0302,  0.1221,  0.0640, -0.0622,  0.0610,  0.0118,  0.0662,  0.0151]],\n",
      "       device='cuda:0')\n",
      "==================================================\n",
      "Inference result for dummy sequence 5:\n",
      "Embedding shape: torch.Size([1, 128])\n",
      "Embedding: tensor([[ 0.0226,  0.0751,  0.0758,  0.0419,  0.0783, -0.1245, -0.0599, -0.0558,\n",
      "         -0.0454,  0.0247, -0.0030, -0.0268, -0.0021, -0.0145,  0.0780,  0.0639,\n",
      "         -0.0780,  0.0277, -0.0293, -0.0328, -0.0402, -0.1547, -0.1066, -0.0452,\n",
      "          0.0105,  0.0670, -0.0111, -0.0760, -0.0801, -0.0781,  0.0266,  0.0315,\n",
      "          0.0614, -0.0547, -0.0690,  0.0809, -0.0454,  0.1059,  0.1353,  0.0082,\n",
      "          0.0472,  0.0626,  0.0708, -0.0756, -0.0470,  0.0979,  0.1346, -0.0231,\n",
      "          0.0605,  0.0702,  0.0563, -0.0281,  0.1052, -0.0513, -0.1430, -0.0734,\n",
      "         -0.0866,  0.0049,  0.0109,  0.1442,  0.0681,  0.0472,  0.1602, -0.0518,\n",
      "         -0.0818, -0.0431, -0.0166, -0.0653, -0.0142, -0.0770,  0.1113, -0.1199,\n",
      "          0.0553,  0.0328, -0.1619, -0.0719, -0.1231, -0.1275,  0.0322,  0.0378,\n",
      "         -0.0747,  0.1105,  0.0997,  0.0827,  0.0507,  0.0233, -0.1431, -0.0235,\n",
      "          0.0774, -0.1128,  0.0968, -0.1154, -0.0262, -0.0768, -0.1563, -0.0069,\n",
      "          0.0845, -0.0913,  0.1142,  0.0801,  0.0927,  0.0697,  0.0080,  0.0365,\n",
      "         -0.0452,  0.0331, -0.0050, -0.0166, -0.0781,  0.1474, -0.1256,  0.0495,\n",
      "         -0.0850, -0.0307, -0.1230, -0.0363,  0.0006,  0.1566, -0.0085, -0.0718,\n",
      "         -0.0301,  0.1241,  0.0611, -0.0651,  0.0603,  0.0098,  0.0676,  0.0140]],\n",
      "       device='cuda:0')\n",
      "==================================================\n"
     ]
    }
   ],
   "source": [
    "import torch\n",
    "import random\n",
    "import numpy as np\n",
    "\n",
    "# Set random seed for reproducibility\n",
    "torch.manual_seed(42)\n",
    "random.seed(42)\n",
    "np.random.seed(42)\n",
    "\n",
    "# Define function to generate random gaze data points (X, Y)\n",
    "def generate_dummy_data(sequence_length=10):\n",
    "    # Generate random gaze data points with X and Y values\n",
    "    # X and Y values will be random float numbers between 0 and 1\n",
    "    return np.random.rand(sequence_length, 2).tolist()\n",
    "\n",
    "# Generate dummy sequences for inference\n",
    "dummy_data = [generate_dummy_data(sequence_length=10) for _ in range(5)]  # 5 dummy sequences\n",
    "\n",
    "# Convert the dummy data into torch tensors for inference\n",
    "dummy_data_tensors = [torch.tensor(sequence, dtype=torch.float32).unsqueeze(0).to(device) for sequence in dummy_data]\n",
    "\n",
    "# Perform inference for each dummy sequence\n",
    "model.eval()  # Set the model to evaluation mode\n",
    "with torch.no_grad():\n",
    "    for i, dummy_sequence in enumerate(dummy_data_tensors):\n",
    "        embedding = model(dummy_sequence)  # Get embedding for the dummy sequence\n",
    "        print(f\"Inference result for dummy sequence {i+1}:\")\n",
    "        print(f\"Embedding shape: {embedding.shape}\")\n",
    "        print(f\"Embedding: {embedding}\")\n",
    "        print(\"=\"*50)\n"
   ]
  },
  {
   "cell_type": "code",
   "execution_count": null,
   "metadata": {},
   "outputs": [],
   "source": []
  }
 ],
 "metadata": {
  "kernelspec": {
   "display_name": "venv",
   "language": "python",
   "name": "python3"
  },
  "language_info": {
   "codemirror_mode": {
    "name": "ipython",
    "version": 3
   },
   "file_extension": ".py",
   "mimetype": "text/x-python",
   "name": "python",
   "nbconvert_exporter": "python",
   "pygments_lexer": "ipython3",
   "version": "3.12.4"
  }
 },
 "nbformat": 4,
 "nbformat_minor": 2
}
