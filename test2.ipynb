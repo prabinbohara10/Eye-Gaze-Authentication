{
 "cells": [
  {
   "cell_type": "code",
   "execution_count": 3,
   "metadata": {},
   "outputs": [],
   "source": [
    "class Animal:\n",
    "    animal_no = 0\n",
    "\n",
    "    def __init__(self, name, age):\n",
    "        self.name = name\n",
    "        self.age = age\n",
    "    \n",
    "    def eat(self):\n",
    "        print(\"I am eating\")"
   ]
  },
  {
   "cell_type": "code",
   "execution_count": 5,
   "metadata": {},
   "outputs": [],
   "source": [
    "class Cat(Animal):\n",
    "\n",
    "    def __init__(self, name, age, habit):\n",
    "        super().__init__(name, age)\n",
    "        self.habit = habit\n",
    "        Animal.animal_no += 1\n",
    "    \n",
    "    def eat(self):\n",
    "        print(\"eating like a cat\")\n"
   ]
  },
  {
   "cell_type": "code",
   "execution_count": 7,
   "metadata": {},
   "outputs": [],
   "source": [
    "class Dog(Animal):\n",
    "\n",
    "    def __init__(self, name, age, location):\n",
    "        super().__init__(name, age)\n",
    "        self.location = location\n",
    "        Animal.animal_no += 1\n",
    "    \n",
    "    def eat(self):\n",
    "        print(\"eating like a dog\")"
   ]
  },
  {
   "cell_type": "code",
   "execution_count": 8,
   "metadata": {},
   "outputs": [],
   "source": [
    "d1 = Dog(\"Tom\", 5, \"ktm\")"
   ]
  },
  {
   "cell_type": "code",
   "execution_count": 9,
   "metadata": {},
   "outputs": [
    {
     "name": "stdout",
     "output_type": "stream",
     "text": [
      "eating like a dog\n"
     ]
    }
   ],
   "source": [
    "d1.eat()"
   ]
  },
  {
   "cell_type": "code",
   "execution_count": 10,
   "metadata": {},
   "outputs": [],
   "source": [
    "c1 = Cat(\"mike\", 5, \"eating\")\n",
    "c2 = Cat(\"mike\", 5, \"eating\")\n"
   ]
  },
  {
   "cell_type": "code",
   "execution_count": 14,
   "metadata": {},
   "outputs": [
    {
     "data": {
      "text/plain": [
       "mappingproxy({'__module__': '__main__',\n",
       "              'animal_no': 3,\n",
       "              '__init__': <function __main__.Animal.__init__(self, name, age)>,\n",
       "              'eat': <function __main__.Animal.eat(self)>,\n",
       "              '__dict__': <attribute '__dict__' of 'Animal' objects>,\n",
       "              '__weakref__': <attribute '__weakref__' of 'Animal' objects>,\n",
       "              '__doc__': None})"
      ]
     },
     "execution_count": 14,
     "metadata": {},
     "output_type": "execute_result"
    }
   ],
   "source": [
    "Animal.__dict__"
   ]
  },
  {
   "cell_type": "code",
   "execution_count": 13,
   "metadata": {},
   "outputs": [
    {
     "data": {
      "text/plain": [
       "{'name': 'mike', 'age': 5, 'habit': 'eating'}"
      ]
     },
     "execution_count": 13,
     "metadata": {},
     "output_type": "execute_result"
    }
   ],
   "source": [
    "c1.__dict__"
   ]
  },
  {
   "cell_type": "code",
   "execution_count": null,
   "metadata": {},
   "outputs": [],
   "source": [
    "\n",
    "name = [\"mike\", \"tom\"]\n",
    "age = [5, 2]\n",
    "habit = [\"eat\", \"sleep\"]\n",
    "\n",
    "examples = [\n",
    "    c1, c2\n",
    "    ]\n",
    "\n",
    "try:\n",
    "    count  = 0\n",
    "    for name, age, habit in zip(name, age, habit):\n",
    "        c1 = Cat(name, age, habit)\n",
    "\n",
    "except Exception as e:\n",
    "    print(e)"
   ]
  }
 ],
 "metadata": {
  "kernelspec": {
   "display_name": "Python 3",
   "language": "python",
   "name": "python3"
  },
  "language_info": {
   "codemirror_mode": {
    "name": "ipython",
    "version": 3
   },
   "file_extension": ".py",
   "mimetype": "text/x-python",
   "name": "python",
   "nbconvert_exporter": "python",
   "pygments_lexer": "ipython3",
   "version": "3.11.1"
  }
 },
 "nbformat": 4,
 "nbformat_minor": 2
}
